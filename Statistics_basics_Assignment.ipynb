{
  "nbformat": 4,
  "nbformat_minor": 0,
  "metadata": {
    "colab": {
      "provenance": []
    },
    "kernelspec": {
      "name": "python3",
      "display_name": "Python 3"
    },
    "language_info": {
      "name": "python"
    }
  },
  "cells": [
    {
      "cell_type": "markdown",
      "source": [
        "# ***THEORY ***"
      ],
      "metadata": {
        "id": "m7ACpst38_fY"
      }
    },
    {
      "cell_type": "markdown",
      "source": [
        "1.  What is the difference between descriptive statistics and inferential statistics? Explain with examples.\n",
        "\n",
        "- The difference between descriptive statistics and inferential statistics are:-  \n",
        "\n",
        "- Descriptive Statistics :-\n",
        "\n",
        "- Definition :- Descriptive statistics deals with methods of organising , summarising, and presenting data in a meaningful way .\n",
        "\n",
        "- Purpose :- It describes what the data shows but does not alllow us to make predictions or generalisations beyond the given dataset.\n",
        "\n",
        "- Techniques :- Measures of central tendency , measures of dispersion tables, graphs , and charts.\n",
        "\n",
        "     Example, A teacher calculates the average marks of 50 students in a class and finds the mean to  be 65. This only describes  the performance of that class, nothing more.\n",
        "\n",
        "\n",
        "- Inferential Statistics :-  \n",
        "\n",
        "- Definition :- Inferential statistics deals with making predictions, inferences , or generalisation about a population based on data collection from a sample.\n",
        "\n",
        "- Purpose :- It goes beyond the available data to draw conclusion, often involving probability theory and hypothesis testing .\n",
        "\n",
        "- Techniques :- Hypothesis testing, confidence intervals.\n",
        "\n",
        "\n",
        "         Example,A researcher takes a sample of 200 voters to predict the voting behavior of the entire population  of a city.\n",
        "\n",
        "          \n",
        "2.  What is sampling in statistics? Explain the differences between random and stratified sampling.\n",
        "\n",
        "    - In statistics , sampling is the process of selecting a subset from a larger group in order to study the characteristics of the whole population. Since it is often impractical or impossible to collect data from the entire population , sampling  helps in making reliable conclusions with less cost,time, and effort.\n",
        "\n",
        "       -  The difference between random and stratified sampling are :-\n",
        "\n",
        "       - Random sampling :-  \n",
        "\n",
        "       - In random sampling , each member of the population  has an equal chance of being selected.\n",
        "\n",
        "       - It is sample, unbiased, and ensures fairness.\n",
        "\n",
        "       - Best used when the population is homogeneous.\n",
        "\n",
        "       - Example ; Choosing 100 students at random from a school to study their average height.\n",
        "\n",
        "\n",
        "    - Stratified Sampling :-  \n",
        "\n",
        "    - In stratified sampling , the population is divided into subgroups based on specific characteristics . Then, random samples are taken proportionally from each stratum.\n",
        "\n",
        "    - Ensures representation of all important sungroups.\n",
        "\n",
        "    - Best used when the population is heterogeneous\n",
        "\n",
        "    - Example : Dividing students into male and female groups, then selecting random samples from each groups to ensure both gender are represented.\n",
        "\n",
        "\n",
        "3.  Define mean, median, and mode. Explain why these measures of central tendency are important.\n",
        "\n",
        "    - Mean :- The mean  is the sum of all observations divided by the total number of observations.\n",
        "\n",
        "   - Mean = sum of all values / Number of values.\n",
        "\n",
        "\n",
        "    - Median :- The median is the middle value of an ordered dataset. if the number of observations is odd, it is the middle value. if even, it is the average of the two  middle values.\n",
        "\n",
        "    - Example : For data {2, 4, 6, 8} median = (4+6)/2 = 5.\n",
        "\n",
        "    - Mode :- The mode is the value that occurs most frequently in the dataset. A dataset can have no mode, one mode, or more than one  mode\n",
        "    - Example: for data {2,3,3,5,7}, mode = 3.\n",
        "\n",
        "\n",
        "           Importance of measures of central tendency are:-\n",
        "\n",
        "\n",
        "        - Summarising :- They provide a single representative values that describes the entire dataset, making complex data easier to understand.\n",
        "\n",
        "        - Comparison :- They allow comparison between different groups or populations. for example, comparing average incomes or exam scores.\n",
        "\n",
        "        - Decision making :- Governments, busineeses and reserachers use these measures to make informed decisions (e,g,. mean income for tax policies,)\n",
        "\n",
        "        - Different uses :-  \n",
        "        - The mean is useful for data without extreme outliers.\n",
        "        - The median is useful when data has extreme values or skewed distribution.\n",
        "        - The mode is useful for categorical data to identify the most common category.\n",
        "\n",
        "\n",
        "4.  Explain skewness and kurtosis. What does a positive skew imply about the data?\n",
        "\n",
        "  - 🔹 Skewness\n",
        "\n",
        "Skewness measures the asymmetry of a distribution around its mean.\n",
        "\n",
        "Symmetrical distribution: Skewness = 0\n",
        "\n",
        "Positive skew (Right skew): Skewness > 0\n",
        "\n",
        "Negative skew (Left skew): Skewness < 0\n",
        "\n",
        "✅ What a Positive Skew Implies:\n",
        "\n",
        "The right tail of the distribution is longer than the left.\n",
        "\n",
        "Most of the data values are clustered to the left (lower values).\n",
        "\n",
        "The mean > median > mode.\n",
        "\n",
        "Examples: income distribution, housing prices.\n",
        "\n",
        "🔹 Kurtosis :-\n",
        "\n",
        "Kurtosis measures the \"tailedness\" or peakedness of a distribution — how much data is in the tails and the center compared to a normal distribution.\n",
        "\n",
        "Mesokurtic (Normal distribution): Kurtosis ≈ 3 (Excess kurtosis = 0)\n",
        "\n",
        "Leptokurtic (Heavy tails, sharp peak): Kurtosis > 3 (Excess kurtosis > 0)\n",
        "\n",
        "Platykurtic (Light tails, flat peak): Kurtosis < 3 (Excess kurtosis < 0)\n",
        "\n",
        "✅ Interpretation of Kurtosis:\n",
        "\n",
        "High kurtosis: More outliers; data are prone to extreme values.\n",
        "\n",
        "Low kurtosis: Fewer outliers; more of the data is concentrated around the mean.\n",
        "\n",
        "\n",
        "\n"
      ],
      "metadata": {
        "id": "8zc7O93I9Kk1"
      }
    },
    {
      "cell_type": "markdown",
      "source": [
        "## ***PRACTICAL***"
      ],
      "metadata": {
        "id": "yku6nXaEOakQ"
      }
    },
    {
      "cell_type": "code",
      "execution_count": 1,
      "metadata": {
        "id": "IZmCN9da8x-Y"
      },
      "outputs": [],
      "source": [
        "import numpy as np\n",
        "import pandas as pd"
      ]
    },
    {
      "cell_type": "code",
      "source": [
        "# 5.  Implement a Python program to compute the mean, median, and mode of a given list of numbers.\n",
        "# numbers = [12, 15, 12, 18, 19, 12, 20, 22, 19, 19, 24, 24, 24, 26, 28] .\n",
        "\n",
        "numbers = [12, 15, 12, 18, 19, 12, 20, 22, 19, 19, 24, 24, 24, 26, 28]\n",
        "\n",
        "np.mean(numbers)"
      ],
      "metadata": {
        "colab": {
          "base_uri": "https://localhost:8080/"
        },
        "id": "JsVvkAl1PL1E",
        "outputId": "f4d33558-c43f-450e-cc29-9f02882e9d32"
      },
      "execution_count": 2,
      "outputs": [
        {
          "output_type": "execute_result",
          "data": {
            "text/plain": [
              "np.float64(19.6)"
            ]
          },
          "metadata": {},
          "execution_count": 2
        }
      ]
    },
    {
      "cell_type": "code",
      "source": [
        "np.median(numbers)"
      ],
      "metadata": {
        "colab": {
          "base_uri": "https://localhost:8080/"
        },
        "id": "mU5-l0fxPaLS",
        "outputId": "7a12cfff-44ab-4b48-e1b1-d28253554b8f"
      },
      "execution_count": 3,
      "outputs": [
        {
          "output_type": "execute_result",
          "data": {
            "text/plain": [
              "np.float64(19.0)"
            ]
          },
          "metadata": {},
          "execution_count": 3
        }
      ]
    },
    {
      "cell_type": "code",
      "source": [
        "import statistics\n"
      ],
      "metadata": {
        "id": "j4q2wdtePdMJ"
      },
      "execution_count": 6,
      "outputs": []
    },
    {
      "cell_type": "code",
      "source": [
        "statistics.mode(numbers)"
      ],
      "metadata": {
        "colab": {
          "base_uri": "https://localhost:8080/"
        },
        "id": "AY-3jvUiQxyR",
        "outputId": "2fdd945a-f9cc-4c88-9139-80c5bb8bdce5"
      },
      "execution_count": 7,
      "outputs": [
        {
          "output_type": "execute_result",
          "data": {
            "text/plain": [
              "12"
            ]
          },
          "metadata": {},
          "execution_count": 7
        }
      ]
    },
    {
      "cell_type": "code",
      "source": [
        "# 6.  Compute the covariance and correlation coefficient between the following two datasets provided as lists in Python:\n",
        " # list_x = [10, 20, 30, 40, 50]\n",
        " # list_y = [15, 25, 35, 45, 60]\n",
        "\n",
        "list_x = [10, 20, 30, 40, 50]\n",
        "list_y = [15, 25, 35, 45, 60]\n",
        "\n",
        "x = np.array(list_x)\n",
        "y = np.array(list_y)\n",
        "\n",
        "cov_matrix = np.cov(x,y)\n",
        "cov_xy = cov_matrix[0,1]\n",
        "\n",
        "corr_xy = np.corrcoef(x,y)\n",
        "corr_xy = corr_xy[0,1]"
      ],
      "metadata": {
        "id": "uAfjQUrIQ0l6"
      },
      "execution_count": 10,
      "outputs": []
    },
    {
      "cell_type": "code",
      "source": [
        "cov_xy"
      ],
      "metadata": {
        "colab": {
          "base_uri": "https://localhost:8080/"
        },
        "id": "Q1fQrQ7WWBpH",
        "outputId": "e2eddd3f-a196-4bbe-fd3b-909325b159c6"
      },
      "execution_count": 11,
      "outputs": [
        {
          "output_type": "execute_result",
          "data": {
            "text/plain": [
              "np.float64(275.0)"
            ]
          },
          "metadata": {},
          "execution_count": 11
        }
      ]
    },
    {
      "cell_type": "code",
      "source": [
        "corr_xy"
      ],
      "metadata": {
        "colab": {
          "base_uri": "https://localhost:8080/"
        },
        "id": "OuteJ0hJWS0J",
        "outputId": "73c629da-ade1-4d35-8f8f-ed4681483c8e"
      },
      "execution_count": 12,
      "outputs": [
        {
          "output_type": "execute_result",
          "data": {
            "text/plain": [
              "np.float64(0.995893206467704)"
            ]
          },
          "metadata": {},
          "execution_count": 12
        }
      ]
    },
    {
      "cell_type": "code",
      "source": [
        "import seaborn as sns"
      ],
      "metadata": {
        "id": "tHBBVpB-XFwM"
      },
      "execution_count": 16,
      "outputs": []
    },
    {
      "cell_type": "code",
      "source": [
        "# 7.  Write a Python script to draw a boxplot for the following numeric list and identify its outliers. Explain the result:\n",
        "# data = [12, 14, 14, 15, 18, 19, 19, 21, 22, 22, 23, 23, 24, 26, 29, 35]\n",
        "\n",
        "data = [12, 14, 14, 15, 18, 19, 19, 21, 22, 22, 23, 23, 24, 26, 29, 35 ]\n",
        "\n",
        "sns.boxplot(data)\n",
        "\n"
      ],
      "metadata": {
        "colab": {
          "base_uri": "https://localhost:8080/",
          "height": 428
        },
        "id": "CKNwfTl2WVpa",
        "outputId": "67aa23d6-76c5-44ba-9882-ccdc1d305b45"
      },
      "execution_count": 17,
      "outputs": [
        {
          "output_type": "execute_result",
          "data": {
            "text/plain": [
              "<Axes: >"
            ]
          },
          "metadata": {},
          "execution_count": 17
        },
        {
          "output_type": "display_data",
          "data": {
            "text/plain": [
              "<Figure size 640x480 with 1 Axes>"
            ],
            "image/png": "[encoded data removed]"
          },
          "metadata": {}
        }
      ]
    },
    {
      "cell_type": "code",
      "source": [
        "# The python script for drawing the boxplot is provided in the above the python script . The identified outlier in the given dataset data = [12,14,14,15,18,19,19,21,22,22,23,23,24,26,29,35] is 35. This is because the upper bound for outliers is calcualted as  Q3 + 1.5 x IQR = 23.5 + 1.5 x 7 = 35."
      ],
      "metadata": {
        "id": "op9GvJhVXpO6"
      },
      "execution_count": null,
      "outputs": []
    },
    {
      "cell_type": "code",
      "source": [],
      "metadata": {
        "id": "tHa2fARKQuCM"
      },
      "execution_count": null,
      "outputs": []
    },
    {
      "cell_type": "code",
      "source": [],
      "metadata": {
        "id": "v_Cr0mFPPkaS"
      },
      "execution_count": null,
      "outputs": []
    }
  ]
}